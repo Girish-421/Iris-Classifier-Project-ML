{
 "cells": [
  {
   "cell_type": "markdown",
   "id": "fce31acc",
   "metadata": {},
   "source": [
    "### Importing modules\n"
   ]
  },
  {
   "cell_type": "code",
   "execution_count": 7,
   "id": "430200eb",
   "metadata": {},
   "outputs": [],
   "source": [
    "import numpy as np\n",
    "import pandas as pd\n",
    "import matplotlib.pyplot as plt\n",
    "import seaborn as sns"
   ]
  },
  {
   "cell_type": "markdown",
   "id": "16c6cbff",
   "metadata": {},
   "source": [
    "\n",
    "### Loading dataset"
   ]
  },
  {
   "cell_type": "code",
   "execution_count": 8,
   "id": "617b05bf",
   "metadata": {},
   "outputs": [
    {
     "ename": "SyntaxError",
     "evalue": "(unicode error) 'unicodeescape' codec can't decode bytes in position 2-3: truncated \\UXXXXXXXX escape (122165912.py, line 1)",
     "output_type": "error",
     "traceback": [
      "\u001b[1;36m  File \u001b[1;32m\"C:\\Users\\girish\\AppData\\Local\\Temp\\ipykernel_25416\\122165912.py\"\u001b[1;36m, line \u001b[1;32m1\u001b[0m\n\u001b[1;33m    df=pd.read_csv('C:\\Users\\girish\\OneDrive\\Desktop\\I_P\\Iris_csv.csv')\u001b[0m\n\u001b[1;37m                                                                      ^\u001b[0m\n\u001b[1;31mSyntaxError\u001b[0m\u001b[1;31m:\u001b[0m (unicode error) 'unicodeescape' codec can't decode bytes in position 2-3: truncated \\UXXXXXXXX escape\n"
     ]
    }
   ],
   "source": [
    "df=pd.read_csv('C:\\Users\\girish\\OneDrive\\Desktop\\I_P\\Iris_csv.csv')\n",
    "df.head()"
   ]
  },
  {
   "cell_type": "code",
   "execution_count": null,
   "id": "1c3cd8db",
   "metadata": {},
   "outputs": [],
   "source": [
    "df.info()"
   ]
  },
  {
   "cell_type": "code",
   "execution_count": null,
   "id": "4281f02e",
   "metadata": {},
   "outputs": [],
   "source": [
    "df['class'].value_counts()"
   ]
  },
  {
   "cell_type": "code",
   "execution_count": null,
   "id": "6cfb7798",
   "metadata": {},
   "outputs": [],
   "source": [
    "df.describe()"
   ]
  },
  {
   "cell_type": "markdown",
   "id": "f25de4d0",
   "metadata": {},
   "source": [
    "### Data analysis"
   ]
  },
  {
   "cell_type": "code",
   "execution_count": null,
   "id": "ceb3959a",
   "metadata": {},
   "outputs": [],
   "source": [
    "df['sepallength'].hist()"
   ]
  },
  {
   "cell_type": "code",
   "execution_count": null,
   "id": "9559bb70",
   "metadata": {},
   "outputs": [],
   "source": [
    "df['sepalwidth'].hist()"
   ]
  },
  {
   "cell_type": "code",
   "execution_count": null,
   "id": "58c64d3f",
   "metadata": {},
   "outputs": [],
   "source": [
    "df['petallength'].hist()"
   ]
  },
  {
   "cell_type": "code",
   "execution_count": null,
   "id": "2b51fb4e",
   "metadata": {},
   "outputs": [],
   "source": [
    "df['petalwidth'].hist()"
   ]
  },
  {
   "cell_type": "code",
   "execution_count": null,
   "id": "21ad9a91",
   "metadata": {},
   "outputs": [],
   "source": [
    "colours=['red','orange','blue']\n",
    "classes=['Iris-setosa','Iris-versicolor','Iris-virginica']\n"
   ]
  },
  {
   "cell_type": "code",
   "execution_count": null,
   "id": "e3405159",
   "metadata": {},
   "outputs": [],
   "source": [
    "#sepal length vs sepal width\n",
    "for i in range(3):\n",
    "    x=df[df['class']==classes[i]]\n",
    "    plt.scatter(x['sepallength'],x['sepalwidth'],c=colours[i],label=classes[i])\n",
    "plt.xlabel('Sepal Length')\n",
    "plt.ylabel('Sepal Width')\n",
    "plt.legend()\n",
    "plt.show()"
   ]
  },
  {
   "cell_type": "code",
   "execution_count": null,
   "id": "94d02ce1",
   "metadata": {},
   "outputs": [],
   "source": [
    "#petal length vs petal width\n",
    "for i in range(3):\n",
    "    x=df[df['class']==classes[i]]\n",
    "    plt.scatter(x['petallength'],x['petalwidth'],c=colours[i],label=classes[i])\n",
    "plt.xlabel('Petal Length')\n",
    "plt.ylabel('Petal Width')\n",
    "plt.legend()\n",
    "plt.show()"
   ]
  },
  {
   "cell_type": "code",
   "execution_count": null,
   "id": "98d4c423",
   "metadata": {},
   "outputs": [],
   "source": [
    "\n",
    "#sepal length vs petal length\n",
    "for i in range(3):\n",
    "    x=df[df['class']==classes[i]]\n",
    "    plt.scatter(x['sepallength'],x['petallength'],c=colours[i],label=classes[i])\n",
    "plt.xlabel('Sepal Length')\n",
    "plt.ylabel('Petal length')\n",
    "plt.legend()\n",
    "plt.show()\n"
   ]
  },
  {
   "cell_type": "code",
   "execution_count": null,
   "id": "19f386d0",
   "metadata": {},
   "outputs": [],
   "source": [
    "#petal width vs sepal width\n",
    "for i in range(3):\n",
    "    x=df[df['class']==classes[i]]\n",
    "    plt.scatter(x['petalwidth'],x['sepalwidth'],c=colours[i],label=classes[i])\n",
    "plt.xlabel('Petal Width')\n",
    "plt.ylabel('Sepal Width')\n",
    "plt.legend()\n",
    "plt.show()"
   ]
  },
  {
   "cell_type": "markdown",
   "id": "b873ba69",
   "metadata": {},
   "source": [
    "### Correlation matrix"
   ]
  },
  {
   "cell_type": "code",
   "execution_count": null,
   "id": "bad9d827",
   "metadata": {},
   "outputs": [],
   "source": [
    "corr=df.corr()\n",
    "fig,ax=plt.subplots(figsize=(6,4))\n",
    "sns.heatmap(corr,annot=True,ax=ax)"
   ]
  },
  {
   "cell_type": "markdown",
   "id": "5b18a754",
   "metadata": {},
   "source": [
    "### Splitting dataset"
   ]
  },
  {
   "cell_type": "code",
   "execution_count": null,
   "id": "21486fe5",
   "metadata": {},
   "outputs": [],
   "source": [
    "from sklearn.model_selection import train_test_split\n",
    "df1=df.drop(columns=['class'])\n",
    "x=df1\n",
    "y=df['class']\n",
    "x_train,x_test,y_train,y_test=train_test_split(x,y,test_size=0.2,random_state=1)"
   ]
  },
  {
   "cell_type": "markdown",
   "id": "059f9e7f",
   "metadata": {},
   "source": [
    "### Model Building"
   ]
  },
  {
   "cell_type": "code",
   "execution_count": null,
   "id": "6b9d02c5",
   "metadata": {},
   "outputs": [],
   "source": [
    "from sklearn.linear_model import LogisticRegression\n",
    "from sklearn.neighbors import KNeighborsClassifier"
   ]
  },
  {
   "cell_type": "code",
   "execution_count": null,
   "id": "2e19f2ff",
   "metadata": {},
   "outputs": [],
   "source": [
    "model=LogisticRegression()\n",
    "model.fit(x_train.values,y_train.values)"
   ]
  },
  {
   "cell_type": "code",
   "execution_count": null,
   "id": "6edf3fd0",
   "metadata": {},
   "outputs": [],
   "source": [
    "print(\"Accuracy: \",model.score(x_test,y_test)*100)"
   ]
  },
  {
   "cell_type": "code",
   "execution_count": null,
   "id": "e5be1ab6",
   "metadata": {},
   "outputs": [],
   "source": [
    "model=KNeighborsClassifier()\n",
    "model.fit(x_train.values,y_train.values)"
   ]
  },
  {
   "cell_type": "code",
   "execution_count": null,
   "id": "eff47154",
   "metadata": {},
   "outputs": [],
   "source": [
    "print(\"Accuracy: \",model.score(x_test,y_test)*100)"
   ]
  },
  {
   "cell_type": "code",
   "execution_count": null,
   "id": "35ffe63b",
   "metadata": {},
   "outputs": [],
   "source": [
    "import pickle\n",
    "filename = 'saved_model.pkl'\n",
    "try:\n",
    "    with open(filename, 'wb') as file:\n",
    "        pickle.dump(model, file)\n",
    "    print(\"Model saved\")\n",
    "except Exception as e:\n",
    "    print(f\"Error saving the model: {e}\")"
   ]
  },
  {
   "cell_type": "code",
   "execution_count": null,
   "id": "eeff7a92",
   "metadata": {},
   "outputs": [],
   "source": [
    "ld_model=pickle.load(open(filename,'rb'))\n",
    "ld_model.predict([[5,2,3.5,1]])"
   ]
  }
 ],
 "metadata": {
  "kernelspec": {
   "display_name": "Python 3 (ipykernel)",
   "language": "python",
   "name": "python3"
  },
  "language_info": {
   "codemirror_mode": {
    "name": "ipython",
    "version": 3
   },
   "file_extension": ".py",
   "mimetype": "text/x-python",
   "name": "python",
   "nbconvert_exporter": "python",
   "pygments_lexer": "ipython3",
   "version": "3.9.13"
  }
 },
 "nbformat": 4,
 "nbformat_minor": 5
}
